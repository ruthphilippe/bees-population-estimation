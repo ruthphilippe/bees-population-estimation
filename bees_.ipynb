{
 "cells": [
  {
   "cell_type": "markdown",
   "id": "cf440891",
   "metadata": {},
   "source": [
    "# Population Estimation\n",
    "\n",
    "**Task:** Predict the individualCount (how many bees observed) from features like location, year, elevation, species.\n",
    "\n",
    "**Type:** Regression.\n",
    "\n",
    "**Example:** “How many individuals of this species are expected in this region?"
   ]
  },
  {
   "cell_type": "code",
   "execution_count": 2,
   "id": "e3a603d8",
   "metadata": {},
   "outputs": [
    {
     "name": "stdout",
     "output_type": "stream",
     "text": [
      "Shape: (3393, 50)\n",
      "Shape of X: (3393, 8)\n",
      "Shape of y: (3393,)\n"
     ]
    },
    {
     "data": {
      "text/html": [
       "<div>\n",
       "<style scoped>\n",
       "    .dataframe tbody tr th:only-of-type {\n",
       "        vertical-align: middle;\n",
       "    }\n",
       "\n",
       "    .dataframe tbody tr th {\n",
       "        vertical-align: top;\n",
       "    }\n",
       "\n",
       "    .dataframe thead th {\n",
       "        text-align: right;\n",
       "    }\n",
       "</style>\n",
       "<table border=\"1\" class=\"dataframe\">\n",
       "  <thead>\n",
       "    <tr style=\"text-align: right;\">\n",
       "      <th></th>\n",
       "      <th>decimalLatitude</th>\n",
       "      <th>decimalLongitude</th>\n",
       "      <th>elevation</th>\n",
       "      <th>year</th>\n",
       "      <th>month</th>\n",
       "      <th>genus</th>\n",
       "      <th>stateProvince</th>\n",
       "      <th>countryCode</th>\n",
       "    </tr>\n",
       "  </thead>\n",
       "  <tbody>\n",
       "    <tr>\n",
       "      <th>0</th>\n",
       "      <td>16.040417</td>\n",
       "      <td>99.2331</td>\n",
       "      <td>301.0</td>\n",
       "      <td>2007.0</td>\n",
       "      <td>9.0</td>\n",
       "      <td>Tetragonula</td>\n",
       "      <td>Kamphaeng Phet</td>\n",
       "      <td>TH</td>\n",
       "    </tr>\n",
       "    <tr>\n",
       "      <th>1</th>\n",
       "      <td>16.040417</td>\n",
       "      <td>99.2331</td>\n",
       "      <td>301.0</td>\n",
       "      <td>2007.0</td>\n",
       "      <td>9.0</td>\n",
       "      <td>Tetragonula</td>\n",
       "      <td>Kamphaeng Phet</td>\n",
       "      <td>TH</td>\n",
       "    </tr>\n",
       "    <tr>\n",
       "      <th>2</th>\n",
       "      <td>16.040417</td>\n",
       "      <td>99.2331</td>\n",
       "      <td>301.0</td>\n",
       "      <td>2007.0</td>\n",
       "      <td>9.0</td>\n",
       "      <td>Tetragonula</td>\n",
       "      <td>Kamphaeng Phet</td>\n",
       "      <td>TH</td>\n",
       "    </tr>\n",
       "    <tr>\n",
       "      <th>3</th>\n",
       "      <td>16.040417</td>\n",
       "      <td>99.2331</td>\n",
       "      <td>301.0</td>\n",
       "      <td>2007.0</td>\n",
       "      <td>9.0</td>\n",
       "      <td>Tetragonula</td>\n",
       "      <td>Kamphaeng Phet</td>\n",
       "      <td>TH</td>\n",
       "    </tr>\n",
       "    <tr>\n",
       "      <th>4</th>\n",
       "      <td>16.040417</td>\n",
       "      <td>99.2331</td>\n",
       "      <td>301.0</td>\n",
       "      <td>2007.0</td>\n",
       "      <td>9.0</td>\n",
       "      <td>Tetragonula</td>\n",
       "      <td>Kamphaeng Phet</td>\n",
       "      <td>TH</td>\n",
       "    </tr>\n",
       "  </tbody>\n",
       "</table>\n",
       "</div>"
      ],
      "text/plain": [
       "   decimalLatitude  decimalLongitude  elevation    year  month        genus  \\\n",
       "0        16.040417           99.2331      301.0  2007.0    9.0  Tetragonula   \n",
       "1        16.040417           99.2331      301.0  2007.0    9.0  Tetragonula   \n",
       "2        16.040417           99.2331      301.0  2007.0    9.0  Tetragonula   \n",
       "3        16.040417           99.2331      301.0  2007.0    9.0  Tetragonula   \n",
       "4        16.040417           99.2331      301.0  2007.0    9.0  Tetragonula   \n",
       "\n",
       "    stateProvince countryCode  \n",
       "0  Kamphaeng Phet          TH  \n",
       "1  Kamphaeng Phet          TH  \n",
       "2  Kamphaeng Phet          TH  \n",
       "3  Kamphaeng Phet          TH  \n",
       "4  Kamphaeng Phet          TH  "
      ]
     },
     "execution_count": 2,
     "metadata": {},
     "output_type": "execute_result"
    }
   ],
   "source": [
    "#Step 0 - Load the dataset\n",
    "import pandas as pd\n",
    "\n",
    "df_bees = pd.read_csv(\"0060472-250827131500795.csv\", sep=\"\\t\")\n",
    "\n",
    "print(\"Shape:\", df_bees.shape)\n",
    "df_bees.head()\n",
    "#Step 1 - Target and Feature Selection\n",
    "\n",
    "target = \"individualCount\"\n",
    "\n",
    "features = [\n",
    "    \"decimalLatitude\", \"decimalLongitude\", \"elevation\",\n",
    "    \"year\", \"month\", \"genus\", \"stateProvince\", \"countryCode\"\n",
    "]\n",
    "\n",
    "df_model = df_bees.dropna(subset=[target])\n",
    "\n",
    "X = df_model[features]\n",
    "y = df_model[target]\n",
    "\n",
    "print(\"Shape of X:\", X.shape)\n",
    "print(\"Shape of y:\", y.shape)\n",
    "X.head()"
   ]
  },
  {
   "cell_type": "code",
   "execution_count": 3,
   "id": "6b8f950f",
   "metadata": {},
   "outputs": [
    {
     "name": "stdout",
     "output_type": "stream",
     "text": [
      "Train shape: (2714, 8) Test shape: (679, 8)\n"
     ]
    }
   ],
   "source": [
    "#Step 2 - Train/Test Split\n",
    "\n",
    "from sklearn.model_selection import train_test_split\n",
    "\n",
    "X_train, X_test, y_train, y_test = train_test_split(\n",
    "    X, y,\n",
    "    test_size=0.2,\n",
    "    random_state=42\n",
    ")\n",
    "\n",
    "print(\"Train shape:\", X_train.shape, \"Test shape:\", X_test.shape)"
   ]
  },
  {
   "cell_type": "code",
   "execution_count": null,
   "id": "d3626777",
   "metadata": {},
   "outputs": [],
   "source": [
    "#Step 3 - Preprocessing\n",
    "\n",
    "from sklearn.preprocessing import OneHotEncoder, StandardScaler\n",
    "from sklearn.compose import ColumnTransformer\n",
    "from sklearn.pipeline import Pipeline\n",
    "\n",
    "numeric_features = [\"decimalLatitude\", \"decimalLongitude\", \"elevation\", \"year\", \"month\"]\n",
    "categorical_features = []"
   ]
  }
 ],
 "metadata": {
  "kernelspec": {
   "display_name": "Python 3",
   "language": "python",
   "name": "python3"
  },
  "language_info": {
   "codemirror_mode": {
    "name": "ipython",
    "version": 3
   },
   "file_extension": ".py",
   "mimetype": "text/x-python",
   "name": "python",
   "nbconvert_exporter": "python",
   "pygments_lexer": "ipython3",
   "version": "3.13.5"
  }
 },
 "nbformat": 4,
 "nbformat_minor": 5
}
